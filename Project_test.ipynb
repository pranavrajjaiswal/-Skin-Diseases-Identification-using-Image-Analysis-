{
 "cells": [
  {
   "cell_type": "markdown",
   "metadata": {},
   "source": [
    "# BUILDING THE MODEL"
   ]
  },
  {
   "cell_type": "markdown",
   "metadata": {},
   "source": [
    "# Importing Libraries"
   ]
  },
  {
   "cell_type": "code",
   "execution_count": 1,
   "metadata": {},
   "outputs": [
    {
     "name": "stderr",
     "output_type": "stream",
     "text": [
      "Using TensorFlow backend.\n",
      "C:\\Users\\RAMKI ASMATH\\anaconda3\\lib\\site-packages\\tensorflow\\python\\framework\\dtypes.py:516: FutureWarning: Passing (type, 1) or '1type' as a synonym of type is deprecated; in a future version of numpy, it will be understood as (type, (1,)) / '(1,)type'.\n",
      "  _np_qint8 = np.dtype([(\"qint8\", np.int8, 1)])\n",
      "C:\\Users\\RAMKI ASMATH\\anaconda3\\lib\\site-packages\\tensorflow\\python\\framework\\dtypes.py:517: FutureWarning: Passing (type, 1) or '1type' as a synonym of type is deprecated; in a future version of numpy, it will be understood as (type, (1,)) / '(1,)type'.\n",
      "  _np_quint8 = np.dtype([(\"quint8\", np.uint8, 1)])\n",
      "C:\\Users\\RAMKI ASMATH\\anaconda3\\lib\\site-packages\\tensorflow\\python\\framework\\dtypes.py:518: FutureWarning: Passing (type, 1) or '1type' as a synonym of type is deprecated; in a future version of numpy, it will be understood as (type, (1,)) / '(1,)type'.\n",
      "  _np_qint16 = np.dtype([(\"qint16\", np.int16, 1)])\n",
      "C:\\Users\\RAMKI ASMATH\\anaconda3\\lib\\site-packages\\tensorflow\\python\\framework\\dtypes.py:519: FutureWarning: Passing (type, 1) or '1type' as a synonym of type is deprecated; in a future version of numpy, it will be understood as (type, (1,)) / '(1,)type'.\n",
      "  _np_quint16 = np.dtype([(\"quint16\", np.uint16, 1)])\n",
      "C:\\Users\\RAMKI ASMATH\\anaconda3\\lib\\site-packages\\tensorflow\\python\\framework\\dtypes.py:520: FutureWarning: Passing (type, 1) or '1type' as a synonym of type is deprecated; in a future version of numpy, it will be understood as (type, (1,)) / '(1,)type'.\n",
      "  _np_qint32 = np.dtype([(\"qint32\", np.int32, 1)])\n",
      "C:\\Users\\RAMKI ASMATH\\anaconda3\\lib\\site-packages\\tensorflow\\python\\framework\\dtypes.py:525: FutureWarning: Passing (type, 1) or '1type' as a synonym of type is deprecated; in a future version of numpy, it will be understood as (type, (1,)) / '(1,)type'.\n",
      "  np_resource = np.dtype([(\"resource\", np.ubyte, 1)])\n",
      "C:\\Users\\RAMKI ASMATH\\anaconda3\\lib\\site-packages\\tensorboard\\compat\\tensorflow_stub\\dtypes.py:541: FutureWarning: Passing (type, 1) or '1type' as a synonym of type is deprecated; in a future version of numpy, it will be understood as (type, (1,)) / '(1,)type'.\n",
      "  _np_qint8 = np.dtype([(\"qint8\", np.int8, 1)])\n",
      "C:\\Users\\RAMKI ASMATH\\anaconda3\\lib\\site-packages\\tensorboard\\compat\\tensorflow_stub\\dtypes.py:542: FutureWarning: Passing (type, 1) or '1type' as a synonym of type is deprecated; in a future version of numpy, it will be understood as (type, (1,)) / '(1,)type'.\n",
      "  _np_quint8 = np.dtype([(\"quint8\", np.uint8, 1)])\n",
      "C:\\Users\\RAMKI ASMATH\\anaconda3\\lib\\site-packages\\tensorboard\\compat\\tensorflow_stub\\dtypes.py:543: FutureWarning: Passing (type, 1) or '1type' as a synonym of type is deprecated; in a future version of numpy, it will be understood as (type, (1,)) / '(1,)type'.\n",
      "  _np_qint16 = np.dtype([(\"qint16\", np.int16, 1)])\n",
      "C:\\Users\\RAMKI ASMATH\\anaconda3\\lib\\site-packages\\tensorboard\\compat\\tensorflow_stub\\dtypes.py:544: FutureWarning: Passing (type, 1) or '1type' as a synonym of type is deprecated; in a future version of numpy, it will be understood as (type, (1,)) / '(1,)type'.\n",
      "  _np_quint16 = np.dtype([(\"quint16\", np.uint16, 1)])\n",
      "C:\\Users\\RAMKI ASMATH\\anaconda3\\lib\\site-packages\\tensorboard\\compat\\tensorflow_stub\\dtypes.py:545: FutureWarning: Passing (type, 1) or '1type' as a synonym of type is deprecated; in a future version of numpy, it will be understood as (type, (1,)) / '(1,)type'.\n",
      "  _np_qint32 = np.dtype([(\"qint32\", np.int32, 1)])\n",
      "C:\\Users\\RAMKI ASMATH\\anaconda3\\lib\\site-packages\\tensorboard\\compat\\tensorflow_stub\\dtypes.py:550: FutureWarning: Passing (type, 1) or '1type' as a synonym of type is deprecated; in a future version of numpy, it will be understood as (type, (1,)) / '(1,)type'.\n",
      "  np_resource = np.dtype([(\"resource\", np.ubyte, 1)])\n"
     ]
    }
   ],
   "source": [
    "from keras.models import Sequential\n",
    "from keras.layers import Dense\n",
    "from keras.layers import MaxPooling2D\n",
    "from keras.layers import Conv2D\n",
    "from keras.layers import Flatten"
   ]
  },
  {
   "cell_type": "markdown",
   "metadata": {},
   "source": [
    "# Initializing the model"
   ]
  },
  {
   "cell_type": "code",
   "execution_count": 2,
   "metadata": {},
   "outputs": [
    {
     "name": "stdout",
     "output_type": "stream",
     "text": [
      "WARNING:tensorflow:From C:\\Users\\RAMKI ASMATH\\anaconda3\\lib\\site-packages\\keras\\backend\\tensorflow_backend.py:74: The name tf.get_default_graph is deprecated. Please use tf.compat.v1.get_default_graph instead.\n",
      "\n"
     ]
    }
   ],
   "source": [
    "model=Sequential()"
   ]
  },
  {
   "cell_type": "markdown",
   "metadata": {},
   "source": [
    "# Adding all the req. layers"
   ]
  },
  {
   "cell_type": "code",
   "execution_count": 3,
   "metadata": {},
   "outputs": [
    {
     "name": "stdout",
     "output_type": "stream",
     "text": [
      "WARNING:tensorflow:From C:\\Users\\RAMKI ASMATH\\anaconda3\\lib\\site-packages\\keras\\backend\\tensorflow_backend.py:517: The name tf.placeholder is deprecated. Please use tf.compat.v1.placeholder instead.\n",
      "\n",
      "WARNING:tensorflow:From C:\\Users\\RAMKI ASMATH\\anaconda3\\lib\\site-packages\\keras\\backend\\tensorflow_backend.py:4138: The name tf.random_uniform is deprecated. Please use tf.random.uniform instead.\n",
      "\n",
      "WARNING:tensorflow:From C:\\Users\\RAMKI ASMATH\\anaconda3\\lib\\site-packages\\keras\\backend\\tensorflow_backend.py:3976: The name tf.nn.max_pool is deprecated. Please use tf.nn.max_pool2d instead.\n",
      "\n"
     ]
    },
    {
     "name": "stderr",
     "output_type": "stream",
     "text": [
      "C:\\Users\\RAMKI ASMATH\\anaconda3\\lib\\site-packages\\ipykernel_launcher.py:1: UserWarning: Update your `Conv2D` call to the Keras 2 API: `Conv2D(32, (3, 3), input_shape=(64, 64, 3..., activation=\"relu\")`\n",
      "  \"\"\"Entry point for launching an IPython kernel.\n",
      "C:\\Users\\RAMKI ASMATH\\anaconda3\\lib\\site-packages\\ipykernel_launcher.py:4: UserWarning: Update your `Dense` call to the Keras 2 API: `Dense(activation=\"relu\", units=128, kernel_initializer=\"random_uniform\")`\n",
      "  after removing the cwd from sys.path.\n",
      "C:\\Users\\RAMKI ASMATH\\anaconda3\\lib\\site-packages\\ipykernel_launcher.py:5: UserWarning: Update your `Dense` call to the Keras 2 API: `Dense(activation=\"relu\", units=64, kernel_initializer=\"random_uniform\")`\n",
      "  \"\"\"\n",
      "C:\\Users\\RAMKI ASMATH\\anaconda3\\lib\\site-packages\\ipykernel_launcher.py:6: UserWarning: Update your `Dense` call to the Keras 2 API: `Dense(activation=\"relu\", units=32, kernel_initializer=\"random_uniform\")`\n",
      "  \n",
      "C:\\Users\\RAMKI ASMATH\\anaconda3\\lib\\site-packages\\ipykernel_launcher.py:7: UserWarning: Update your `Dense` call to the Keras 2 API: `Dense(activation=\"relu\", units=18, kernel_initializer=\"random_uniform\")`\n",
      "  import sys\n",
      "C:\\Users\\RAMKI ASMATH\\anaconda3\\lib\\site-packages\\ipykernel_launcher.py:8: UserWarning: Update your `Dense` call to the Keras 2 API: `Dense(activation=\"relu\", units=9, kernel_initializer=\"random_uniform\")`\n",
      "  \n",
      "C:\\Users\\RAMKI ASMATH\\anaconda3\\lib\\site-packages\\ipykernel_launcher.py:9: UserWarning: Update your `Dense` call to the Keras 2 API: `Dense(activation=\"softmax\", units=5, kernel_initializer=\"random_uniform\")`\n",
      "  if __name__ == '__main__':\n"
     ]
    }
   ],
   "source": [
    "model.add(Conv2D(32,3,3,input_shape=(64,64,3),activation='relu'))\n",
    "model.add(MaxPooling2D(pool_size=(2,2)))\n",
    "model.add(Flatten())\n",
    "model.add(Dense(output_dim=128,activation='relu',init='random_uniform'))\n",
    "model.add(Dense(output_dim=64,activation='relu',init='random_uniform'))\n",
    "model.add(Dense(output_dim=32,activation='relu',init='random_uniform'))\n",
    "model.add(Dense(output_dim=18,activation='relu',init='random_uniform'))\n",
    "model.add(Dense(output_dim=9,activation='relu',init='random_uniform'))\n",
    "model.add(Dense(output_dim=5,activation='softmax',init='random_uniform'))"
   ]
  },
  {
   "cell_type": "markdown",
   "metadata": {},
   "source": [
    "# Summary of the layers added"
   ]
  },
  {
   "cell_type": "code",
   "execution_count": 4,
   "metadata": {},
   "outputs": [
    {
     "name": "stdout",
     "output_type": "stream",
     "text": [
      "_________________________________________________________________\n",
      "Layer (type)                 Output Shape              Param #   \n",
      "=================================================================\n",
      "conv2d_1 (Conv2D)            (None, 62, 62, 32)        896       \n",
      "_________________________________________________________________\n",
      "max_pooling2d_1 (MaxPooling2 (None, 31, 31, 32)        0         \n",
      "_________________________________________________________________\n",
      "flatten_1 (Flatten)          (None, 30752)             0         \n",
      "_________________________________________________________________\n",
      "dense_1 (Dense)              (None, 128)               3936384   \n",
      "_________________________________________________________________\n",
      "dense_2 (Dense)              (None, 64)                8256      \n",
      "_________________________________________________________________\n",
      "dense_3 (Dense)              (None, 32)                2080      \n",
      "_________________________________________________________________\n",
      "dense_4 (Dense)              (None, 18)                594       \n",
      "_________________________________________________________________\n",
      "dense_5 (Dense)              (None, 9)                 171       \n",
      "_________________________________________________________________\n",
      "dense_6 (Dense)              (None, 5)                 50        \n",
      "=================================================================\n",
      "Total params: 3,948,431\n",
      "Trainable params: 3,948,431\n",
      "Non-trainable params: 0\n",
      "_________________________________________________________________\n"
     ]
    }
   ],
   "source": [
    "model.summary()"
   ]
  },
  {
   "cell_type": "code",
   "execution_count": 5,
   "metadata": {},
   "outputs": [
    {
     "name": "stdout",
     "output_type": "stream",
     "text": [
      "WARNING:tensorflow:From C:\\Users\\RAMKI ASMATH\\anaconda3\\lib\\site-packages\\keras\\optimizers.py:790: The name tf.train.Optimizer is deprecated. Please use tf.compat.v1.train.Optimizer instead.\n",
      "\n",
      "WARNING:tensorflow:From C:\\Users\\RAMKI ASMATH\\anaconda3\\lib\\site-packages\\keras\\backend\\tensorflow_backend.py:3341: The name tf.log is deprecated. Please use tf.math.log instead.\n",
      "\n"
     ]
    }
   ],
   "source": [
    "model.compile(optimizer='adam',loss='sparse_categorical_crossentropy',metrics=['accuracy'])"
   ]
  },
  {
   "cell_type": "code",
   "execution_count": 6,
   "metadata": {},
   "outputs": [],
   "source": [
    "from keras.preprocessing.image import ImageDataGenerator"
   ]
  },
  {
   "cell_type": "code",
   "execution_count": 7,
   "metadata": {},
   "outputs": [],
   "source": [
    "train_datagen=ImageDataGenerator(rescale=1./255,shear_range=0.2,zoom_range=0.2,horizontal_flip=True)\n",
    "test_datagen=ImageDataGenerator(rescale=1./255)"
   ]
  },
  {
   "cell_type": "markdown",
   "metadata": {},
   "source": [
    "# Getting the training & testing data in batches of 18"
   ]
  },
  {
   "cell_type": "code",
   "execution_count": 8,
   "metadata": {},
   "outputs": [
    {
     "name": "stdout",
     "output_type": "stream",
     "text": [
      "Found 1400 images belonging to 5 classes.\n"
     ]
    }
   ],
   "source": [
    "x_train=train_datagen.flow_from_directory(r\"C:\\Users\\RAMKI ASMATH\\Desktop\\Skin_Disease\\dataset\\train_set\",target_size=(64,64),batch_size=7,class_mode='sparse')"
   ]
  },
  {
   "cell_type": "code",
   "execution_count": 9,
   "metadata": {},
   "outputs": [
    {
     "name": "stdout",
     "output_type": "stream",
     "text": [
      "Found 329 images belonging to 5 classes.\n"
     ]
    }
   ],
   "source": [
    "x_test=test_datagen.flow_from_directory(r\"C:\\Users\\RAMKI ASMATH\\Desktop\\Skin_Disease\\dataset\\test_set\",target_size=(64,64),batch_size=7,class_mode='sparse')"
   ]
  },
  {
   "cell_type": "code",
   "execution_count": 10,
   "metadata": {
    "scrolled": true
   },
   "outputs": [
    {
     "name": "stdout",
     "output_type": "stream",
     "text": [
      "{'actinic keratosis': 0, 'melanoma': 1, 'nevus': 2, 'pigmented benign keratosis': 3, 'vascular lesion': 4}\n"
     ]
    }
   ],
   "source": [
    "print(x_train.class_indices)"
   ]
  },
  {
   "cell_type": "markdown",
   "metadata": {},
   "source": [
    "# Fitting the model "
   ]
  },
  {
   "cell_type": "code",
   "execution_count": 11,
   "metadata": {},
   "outputs": [
    {
     "name": "stdout",
     "output_type": "stream",
     "text": [
      "WARNING:tensorflow:From C:\\Users\\RAMKI ASMATH\\anaconda3\\lib\\site-packages\\tensorflow\\python\\ops\\math_grad.py:1250: add_dispatch_support.<locals>.wrapper (from tensorflow.python.ops.array_ops) is deprecated and will be removed in a future version.\n",
      "Instructions for updating:\n",
      "Use tf.where in 2.0, which has the same broadcast rule as np.where\n",
      "WARNING:tensorflow:From C:\\Users\\RAMKI ASMATH\\anaconda3\\lib\\site-packages\\keras\\backend\\tensorflow_backend.py:986: The name tf.assign_add is deprecated. Please use tf.compat.v1.assign_add instead.\n",
      "\n"
     ]
    },
    {
     "name": "stderr",
     "output_type": "stream",
     "text": [
      "C:\\Users\\RAMKI ASMATH\\anaconda3\\lib\\site-packages\\ipykernel_launcher.py:1: UserWarning: The semantics of the Keras 2 argument `steps_per_epoch` is not the same as the Keras 1 argument `samples_per_epoch`. `steps_per_epoch` is the number of batches to draw from the generator at each epoch. Basically steps_per_epoch = samples_per_epoch/batch_size. Similarly `nb_val_samples`->`validation_steps` and `val_samples`->`steps` arguments have changed. Update your method calls accordingly.\n",
      "  \"\"\"Entry point for launching an IPython kernel.\n",
      "C:\\Users\\RAMKI ASMATH\\anaconda3\\lib\\site-packages\\ipykernel_launcher.py:1: UserWarning: Update your `fit_generator` call to the Keras 2 API: `fit_generator(<keras_pre..., epochs=60, validation_data=<keras_pre..., steps_per_epoch=200, validation_steps=329)`\n",
      "  \"\"\"Entry point for launching an IPython kernel.\n"
     ]
    },
    {
     "name": "stdout",
     "output_type": "stream",
     "text": [
      "Epoch 1/60\n",
      "200/200 [==============================] - 291s 1s/step - loss: 1.4808 - acc: 0.2971 - val_loss: 1.6446 - val_acc: 0.2432\n",
      "Epoch 2/60\n",
      "200/200 [==============================] - 261s 1s/step - loss: 1.4450 - acc: 0.2886 - val_loss: 1.5462 - val_acc: 0.2736\n",
      "Epoch 3/60\n",
      "200/200 [==============================] - 252s 1s/step - loss: 1.2980 - acc: 0.3843 - val_loss: 1.2885 - val_acc: 0.3495\n",
      "Epoch 4/60\n",
      "200/200 [==============================] - 249s 1s/step - loss: 1.1994 - acc: 0.4543 - val_loss: 1.2921 - val_acc: 0.4195: 7s -\n",
      "Epoch 5/60\n",
      "200/200 [==============================] - 251s 1s/step - loss: 1.1503 - acc: 0.4829 - val_loss: 1.2289 - val_acc: 0.4438\n",
      "Epoch 6/60\n",
      "200/200 [==============================] - 250s 1s/step - loss: 1.1404 - acc: 0.4943 - val_loss: 1.3504 - val_acc: 0.3799\n",
      "Epoch 7/60\n",
      "200/200 [==============================] - 252s 1s/step - loss: 1.1070 - acc: 0.5021 - val_loss: 1.2069 - val_acc: 0.4377\n",
      "Epoch 8/60\n",
      "200/200 [==============================] - 254s 1s/step - loss: 1.0844 - acc: 0.5150 - val_loss: 1.1855 - val_acc: 0.4529\n",
      "Epoch 9/60\n",
      "200/200 [==============================] - 254s 1s/step - loss: 1.0750 - acc: 0.5179 - val_loss: 1.3610 - val_acc: 0.4438\n",
      "Epoch 10/60\n",
      "200/200 [==============================] - 255s 1s/step - loss: 1.0294 - acc: 0.5214 - val_loss: 1.1425 - val_acc: 0.4529\n",
      "Epoch 11/60\n",
      "200/200 [==============================] - 252s 1s/step - loss: 1.0299 - acc: 0.5307 - val_loss: 1.2419 - val_acc: 0.4255\n",
      "Epoch 12/60\n",
      "200/200 [==============================] - 254s 1s/step - loss: 0.9939 - acc: 0.5336 - val_loss: 1.0650 - val_acc: 0.5228\n",
      "Epoch 13/60\n",
      "200/200 [==============================] - 252s 1s/step - loss: 0.9784 - acc: 0.5343 - val_loss: 1.1827 - val_acc: 0.4498\n",
      "Epoch 14/60\n",
      "200/200 [==============================] - 251s 1s/step - loss: 0.9602 - acc: 0.5279 - val_loss: 1.1047 - val_acc: 0.4650\n",
      "Epoch 15/60\n",
      "200/200 [==============================] - 254s 1s/step - loss: 0.9493 - acc: 0.5436 - val_loss: 1.1689 - val_acc: 0.4255\n",
      "Epoch 16/60\n",
      "200/200 [==============================] - 254s 1s/step - loss: 0.9083 - acc: 0.5964 - val_loss: 1.2002 - val_acc: 0.3343\n",
      "Epoch 17/60\n",
      "200/200 [==============================] - 255s 1s/step - loss: 0.8742 - acc: 0.6143 - val_loss: 1.4791 - val_acc: 0.3252\n",
      "Epoch 18/60\n",
      "200/200 [==============================] - 251s 1s/step - loss: 0.8346 - acc: 0.6829 - val_loss: 1.8602 - val_acc: 0.3374\n",
      "Epoch 19/60\n",
      "200/200 [==============================] - 252s 1s/step - loss: 0.8333 - acc: 0.6900 - val_loss: 1.5482 - val_acc: 0.3252\n",
      "Epoch 20/60\n",
      "200/200 [==============================] - 253s 1s/step - loss: 0.7946 - acc: 0.6979 - val_loss: 1.8327 - val_acc: 0.3526\n",
      "Epoch 21/60\n",
      "200/200 [==============================] - 253s 1s/step - loss: 0.7910 - acc: 0.6936 - val_loss: 1.5120 - val_acc: 0.3435\n",
      "Epoch 22/60\n",
      "200/200 [==============================] - 251s 1s/step - loss: 0.7496 - acc: 0.7107 - val_loss: 1.7209 - val_acc: 0.3860\n",
      "Epoch 23/60\n",
      "200/200 [==============================] - 256s 1s/step - loss: 0.7340 - acc: 0.7157 - val_loss: 1.9053 - val_acc: 0.3830\n",
      "Epoch 24/60\n",
      "200/200 [==============================] - 254s 1s/step - loss: 0.7202 - acc: 0.7200 - val_loss: 1.6277 - val_acc: 0.3891\n",
      "Epoch 25/60\n",
      "200/200 [==============================] - 252s 1s/step - loss: 0.7222 - acc: 0.7200 - val_loss: 1.5460 - val_acc: 0.4255\n",
      "Epoch 26/60\n",
      "200/200 [==============================] - 249s 1s/step - loss: 0.7148 - acc: 0.7271 - val_loss: 1.7517 - val_acc: 0.3708\n",
      "Epoch 27/60\n",
      "200/200 [==============================] - 249s 1s/step - loss: 0.7190 - acc: 0.7393 - val_loss: 1.7291 - val_acc: 0.3739\n",
      "Epoch 28/60\n",
      "200/200 [==============================] - 250s 1s/step - loss: 0.6879 - acc: 0.7379 - val_loss: 1.4816 - val_acc: 0.3860\n",
      "Epoch 29/60\n",
      "200/200 [==============================] - 28369s 142s/step - loss: 0.7054 - acc: 0.7393 - val_loss: 1.6964 - val_acc: 0.3799\n",
      "Epoch 30/60\n",
      "200/200 [==============================] - 322s 2s/step - loss: 0.6945 - acc: 0.7450 - val_loss: 1.5329 - val_acc: 0.3951\n",
      "Epoch 31/60\n",
      "200/200 [==============================] - 271s 1s/step - loss: 0.6697 - acc: 0.7529 - val_loss: 1.4641 - val_acc: 0.3830\n",
      "Epoch 32/60\n",
      "200/200 [==============================] - 267s 1s/step - loss: 0.6557 - acc: 0.7543 - val_loss: 1.4461 - val_acc: 0.3891\n",
      "Epoch 33/60\n",
      "200/200 [==============================] - 254s 1s/step - loss: 0.6662 - acc: 0.7507 - val_loss: 1.5687 - val_acc: 0.3921\n",
      "Epoch 34/60\n",
      "200/200 [==============================] - 255s 1s/step - loss: 0.6207 - acc: 0.7771 - val_loss: 1.8723 - val_acc: 0.4073\n",
      "Epoch 35/60\n",
      "200/200 [==============================] - 252s 1s/step - loss: 0.6343 - acc: 0.7550 - val_loss: 1.8988 - val_acc: 0.4195\n",
      "Epoch 36/60\n",
      "200/200 [==============================] - 254s 1s/step - loss: 0.6845 - acc: 0.7464 - val_loss: 1.5791 - val_acc: 0.4164\n",
      "Epoch 37/60\n",
      "200/200 [==============================] - 253s 1s/step - loss: 0.6296 - acc: 0.7657 - val_loss: 1.7732 - val_acc: 0.4103\n",
      "Epoch 38/60\n",
      "200/200 [==============================] - 252s 1s/step - loss: 0.6436 - acc: 0.7436 - val_loss: 1.6928 - val_acc: 0.4103\n",
      "Epoch 39/60\n",
      "200/200 [==============================] - 252s 1s/step - loss: 0.5914 - acc: 0.7714 - val_loss: 1.8237 - val_acc: 0.4195\n",
      "Epoch 40/60\n",
      "200/200 [==============================] - 254s 1s/step - loss: 0.5876 - acc: 0.7607 - val_loss: 1.8807 - val_acc: 0.3739\n",
      "Epoch 41/60\n",
      "200/200 [==============================] - 253s 1s/step - loss: 0.6034 - acc: 0.7614 - val_loss: 1.6787 - val_acc: 0.3982\n",
      "Epoch 42/60\n",
      "200/200 [==============================] - 255s 1s/step - loss: 0.5902 - acc: 0.7721 - val_loss: 1.4899 - val_acc: 0.3921\n",
      "Epoch 43/60\n",
      "200/200 [==============================] - 251s 1s/step - loss: 0.5629 - acc: 0.7821 - val_loss: 1.9617 - val_acc: 0.4073\n",
      "Epoch 44/60\n",
      "200/200 [==============================] - 253s 1s/step - loss: 0.5967 - acc: 0.7657 - val_loss: 1.4784 - val_acc: 0.4164\n",
      "Epoch 45/60\n",
      "200/200 [==============================] - 253s 1s/step - loss: 0.5233 - acc: 0.7893 - val_loss: 1.7986 - val_acc: 0.4134\n",
      "Epoch 46/60\n",
      "200/200 [==============================] - 255s 1s/step - loss: 0.5462 - acc: 0.7800 - val_loss: 1.7557 - val_acc: 0.4073\n",
      "Epoch 47/60\n",
      "200/200 [==============================] - 254s 1s/step - loss: 0.5269 - acc: 0.7921 - val_loss: 1.8427 - val_acc: 0.4407\n",
      "Epoch 48/60\n",
      "200/200 [==============================] - 252s 1s/step - loss: 0.5488 - acc: 0.7886 - val_loss: 1.4922 - val_acc: 0.4377\n",
      "Epoch 49/60\n",
      "200/200 [==============================] - 252s 1s/step - loss: 0.5319 - acc: 0.7893 - val_loss: 1.7350 - val_acc: 0.4255\n",
      "Epoch 50/60\n",
      "200/200 [==============================] - 253s 1s/step - loss: 0.5105 - acc: 0.7914 - val_loss: 1.5454 - val_acc: 0.4498\n",
      "Epoch 51/60\n",
      "200/200 [==============================] - 253s 1s/step - loss: 0.5228 - acc: 0.7936 - val_loss: 1.7597 - val_acc: 0.3982\n",
      "Epoch 52/60\n",
      "200/200 [==============================] - 253s 1s/step - loss: 0.4871 - acc: 0.8100 - val_loss: 1.5588 - val_acc: 0.4529\n",
      "Epoch 53/60\n",
      "200/200 [==============================] - 251s 1s/step - loss: 0.4584 - acc: 0.8150 - val_loss: 1.7729 - val_acc: 0.4377\n",
      "Epoch 54/60\n",
      "200/200 [==============================] - 253s 1s/step - loss: 0.4942 - acc: 0.8050 - val_loss: 1.5767 - val_acc: 0.4681\n",
      "Epoch 55/60\n",
      "200/200 [==============================] - 254s 1s/step - loss: 0.4581 - acc: 0.8179 - val_loss: 1.7642 - val_acc: 0.4529\n",
      "Epoch 56/60\n",
      "200/200 [==============================] - 267s 1s/step - loss: 0.4671 - acc: 0.8214 - val_loss: 1.3805 - val_acc: 0.5015\n",
      "Epoch 57/60\n",
      "200/200 [==============================] - 281s 1s/step - loss: 0.4344 - acc: 0.8229 - val_loss: 1.9482 - val_acc: 0.4316\n",
      "Epoch 58/60\n",
      "200/200 [==============================] - 303s 2s/step - loss: 0.4246 - acc: 0.8429 - val_loss: 1.9242 - val_acc: 0.4590\n",
      "Epoch 59/60\n",
      "200/200 [==============================] - 291s 1s/step - loss: 0.4690 - acc: 0.8179 - val_loss: 1.8263 - val_acc: 0.4407\n",
      "Epoch 60/60\n",
      "200/200 [==============================] - 258s 1s/step - loss: 0.4105 - acc: 0.8400 - val_loss: 1.9004 - val_acc: 0.4650\n"
     ]
    },
    {
     "data": {
      "text/plain": [
       "<keras.callbacks.History at 0x1b3bb167288>"
      ]
     },
     "execution_count": 11,
     "metadata": {},
     "output_type": "execute_result"
    }
   ],
   "source": [
    "model.fit_generator(x_train,samples_per_epoch=1400,epochs=60,validation_data=x_test,nb_val_samples=329)"
   ]
  },
  {
   "cell_type": "code",
   "execution_count": 12,
   "metadata": {},
   "outputs": [],
   "source": [
    "model.save('project-test.h5')"
   ]
  },
  {
   "cell_type": "markdown",
   "metadata": {},
   "source": [
    "# PREDICTION"
   ]
  },
  {
   "cell_type": "code",
   "execution_count": 13,
   "metadata": {},
   "outputs": [],
   "source": [
    "from keras.models import load_model\n",
    "import numpy as np"
   ]
  },
  {
   "cell_type": "code",
   "execution_count": 14,
   "metadata": {},
   "outputs": [],
   "source": [
    "import cv2"
   ]
  },
  {
   "cell_type": "code",
   "execution_count": 15,
   "metadata": {},
   "outputs": [],
   "source": [
    "pred_model=load_model('project-test.h5')"
   ]
  },
  {
   "cell_type": "code",
   "execution_count": 16,
   "metadata": {},
   "outputs": [],
   "source": [
    "from skimage.transform import resize"
   ]
  },
  {
   "cell_type": "code",
   "execution_count": 17,
   "metadata": {},
   "outputs": [],
   "source": [
    "def detect(frame):\n",
    "    try:\n",
    "        img=resize(frame,(64,64))\n",
    "        img=np.expand_dims(img,axis=0)\n",
    "        if(np.max(img)>1):\n",
    "            img=img/255.0\n",
    "        prediction=model.predict(img)\n",
    "        print(prediction)\n",
    "        print(model.predict_classes(img))\n",
    "    except AttributeError:\n",
    "        print(\"Shape not found\")\n",
    "    \n",
    "    "
   ]
  },
  {
   "cell_type": "code",
   "execution_count": 18,
   "metadata": {},
   "outputs": [
    {
     "name": "stdout",
     "output_type": "stream",
     "text": [
      "{'actinic keratosis': 0, 'melanoma': 1, 'nevus': 2, 'pigmented benign keratosis': 3, 'vascular lesion': 4}\n"
     ]
    }
   ],
   "source": [
    "print(x_train.class_indices)"
   ]
  },
  {
   "cell_type": "code",
   "execution_count": 19,
   "metadata": {},
   "outputs": [
    {
     "name": "stdout",
     "output_type": "stream",
     "text": [
      "[[3.9544184e-02 1.6346291e-02 2.4968537e-02 9.1903806e-01 1.0293512e-04]]\n",
      "[3]\n"
     ]
    }
   ],
   "source": [
    "frame=cv2.imread(r'C:\\Users\\RAMKI ASMATH\\Desktop\\Skin_Disease\\dataset\\test_set\\actinic keratosis\\ISIC_0030825.jpg')\n",
    "data=detect(frame)"
   ]
  },
  {
   "cell_type": "code",
   "execution_count": 20,
   "metadata": {},
   "outputs": [
    {
     "name": "stdout",
     "output_type": "stream",
     "text": [
      "[[2.8520408e-03 9.1552281e-01 6.0732890e-02 2.0889869e-02 2.3726795e-06]]\n",
      "[1]\n"
     ]
    }
   ],
   "source": [
    "frame3=cv2.imread(r'C:\\Users\\RAMKI ASMATH\\Desktop\\Skin_Disease\\dataset\\test_set\\melanoma\\ISIC_0000016.jpg')\n",
    "data=detect(frame3)"
   ]
  },
  {
   "cell_type": "code",
   "execution_count": 21,
   "metadata": {},
   "outputs": [
    {
     "name": "stdout",
     "output_type": "stream",
     "text": [
      "[[4.8132286e-08 5.8841072e-02 9.3255341e-01 8.6054383e-03 5.6664302e-11]]\n",
      "[2]\n"
     ]
    }
   ],
   "source": [
    "frame2=cv2.imread(r'C:\\Users\\RAMKI ASMATH\\Desktop\\Skin_Disease\\dataset\\test_set\\nevus\\ISIC_0000563.jpg')\n",
    "data=detect(frame2)"
   ]
  },
  {
   "cell_type": "code",
   "execution_count": 22,
   "metadata": {},
   "outputs": [
    {
     "name": "stdout",
     "output_type": "stream",
     "text": [
      "[[0.0373042  0.06457894 0.0508185  0.08375581 0.76354253]]\n",
      "[4]\n"
     ]
    }
   ],
   "source": [
    "frame3=cv2.imread(r'C:\\Users\\RAMKI ASMATH\\Desktop\\Skin_Disease\\dataset\\test_set\\pigmented benign keratosis\\ISIC_0024324.jpg')\n",
    "data=detect(frame3)"
   ]
  },
  {
   "cell_type": "code",
   "execution_count": 23,
   "metadata": {},
   "outputs": [
    {
     "name": "stdout",
     "output_type": "stream",
     "text": [
      "[[9.9634137e-03 1.8630803e-02 4.6637453e-02 9.2475814e-01 1.0097312e-05]]\n",
      "[3]\n"
     ]
    }
   ],
   "source": [
    "frame3=cv2.imread(r'C:\\Users\\RAMKI ASMATH\\Desktop\\Skin_Disease\\dataset\\test_set\\vascular lesion\\ISIC_0032890.jpg')\n",
    "data=detect(frame3)"
   ]
  },
  {
   "cell_type": "code",
   "execution_count": null,
   "metadata": {},
   "outputs": [],
   "source": []
  }
 ],
 "metadata": {
  "kernelspec": {
   "display_name": "Python 3",
   "language": "python",
   "name": "python3"
  },
  "language_info": {
   "codemirror_mode": {
    "name": "ipython",
    "version": 3
   },
   "file_extension": ".py",
   "mimetype": "text/x-python",
   "name": "python",
   "nbconvert_exporter": "python",
   "pygments_lexer": "ipython3",
   "version": "3.7.6"
  }
 },
 "nbformat": 4,
 "nbformat_minor": 4
}
